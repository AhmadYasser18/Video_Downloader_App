{
 "cells": [
  {
   "cell_type": "markdown",
   "id": "45ca3ca6",
   "metadata": {},
   "source": [
    "<h2> This notebook will be containing the code for downloading the videos which will then be used as fucntions in the app.</h2>"
   ]
  },
  {
   "cell_type": "markdown",
   "id": "fe427513",
   "metadata": {},
   "source": [
    "<h3>Youtube:</h3>"
   ]
  },
  {
   "cell_type": "code",
   "execution_count": 33,
   "id": "051b2b99",
   "metadata": {
    "ExecuteTime": {
     "end_time": "2025-01-17T22:02:42.706766Z",
     "start_time": "2025-01-17T22:02:42.684779Z"
    }
   },
   "outputs": [],
   "source": [
    "#Importing \n",
    "from pytubefix import YouTube\n",
    "from pytubefix.cli import on_progress"
   ]
  },
  {
   "cell_type": "code",
   "execution_count": 34,
   "id": "4ed5f28c",
   "metadata": {
    "ExecuteTime": {
     "end_time": "2025-01-17T22:02:43.859855Z",
     "start_time": "2025-01-17T22:02:43.426098Z"
    }
   },
   "outputs": [
    {
     "ename": "BotDetection",
     "evalue": "VgxnyKnB3qc This request was detected as a bot. Use `use_po_token=True` or switch to WEB client to view. See more details at https://github.com/JuanBindez/pytubefix/pull/209",
     "output_type": "error",
     "traceback": [
      "\u001b[1;31m---------------------------------------------------------------------------\u001b[0m",
      "\u001b[1;31mKeyError\u001b[0m                                  Traceback (most recent call last)",
      "\u001b[1;32m~\\AppData\\Local\\Programs\\Python\\Python39\\lib\\site-packages\\pytubefix\\__main__.py\u001b[0m in \u001b[0;36mtitle\u001b[1;34m(self)\u001b[0m\n\u001b[0;32m    757\u001b[0m             \u001b[1;31m# so if it is not found we will look for it in the `next` endpoint\u001b[0m\u001b[1;33m\u001b[0m\u001b[1;33m\u001b[0m\u001b[1;33m\u001b[0m\u001b[0m\n\u001b[1;32m--> 758\u001b[1;33m             \u001b[1;32mif\u001b[0m \u001b[1;34m'title'\u001b[0m \u001b[1;32min\u001b[0m \u001b[0mself\u001b[0m\u001b[1;33m.\u001b[0m\u001b[0mvid_info\u001b[0m\u001b[1;33m[\u001b[0m\u001b[1;34m'videoDetails'\u001b[0m\u001b[1;33m]\u001b[0m\u001b[1;33m:\u001b[0m\u001b[1;33m\u001b[0m\u001b[1;33m\u001b[0m\u001b[0m\n\u001b[0m\u001b[0;32m    759\u001b[0m                 \u001b[0mself\u001b[0m\u001b[1;33m.\u001b[0m\u001b[0m_title\u001b[0m \u001b[1;33m=\u001b[0m \u001b[0mself\u001b[0m\u001b[1;33m.\u001b[0m\u001b[0mvid_info\u001b[0m\u001b[1;33m[\u001b[0m\u001b[1;34m'videoDetails'\u001b[0m\u001b[1;33m]\u001b[0m\u001b[1;33m[\u001b[0m\u001b[1;34m'title'\u001b[0m\u001b[1;33m]\u001b[0m\u001b[1;33m\u001b[0m\u001b[1;33m\u001b[0m\u001b[0m\n",
      "\u001b[1;31mKeyError\u001b[0m: 'videoDetails'",
      "\nDuring handling of the above exception, another exception occurred:\n",
      "\u001b[1;31mBotDetection\u001b[0m                              Traceback (most recent call last)",
      "\u001b[1;32m~\\AppData\\Local\\Temp\\ipykernel_2408\\892591329.py\u001b[0m in \u001b[0;36m<module>\u001b[1;34m\u001b[0m\n\u001b[0;32m      3\u001b[0m \u001b[0myt\u001b[0m \u001b[1;33m=\u001b[0m \u001b[0mYouTube\u001b[0m\u001b[1;33m(\u001b[0m\u001b[0myt_url\u001b[0m\u001b[1;33m,\u001b[0m \u001b[0mon_progress_callback\u001b[0m\u001b[1;33m=\u001b[0m\u001b[0mon_progress\u001b[0m\u001b[1;33m)\u001b[0m\u001b[1;31m#, use_po_token=True)\u001b[0m\u001b[1;33m\u001b[0m\u001b[1;33m\u001b[0m\u001b[0m\n\u001b[0;32m      4\u001b[0m \u001b[1;33m\u001b[0m\u001b[0m\n\u001b[1;32m----> 5\u001b[1;33m \u001b[0mprint\u001b[0m\u001b[1;33m(\u001b[0m\u001b[0myt\u001b[0m\u001b[1;33m.\u001b[0m\u001b[0mtitle\u001b[0m\u001b[1;33m)\u001b[0m\u001b[1;33m\u001b[0m\u001b[1;33m\u001b[0m\u001b[0m\n\u001b[0m",
      "\u001b[1;32m~\\AppData\\Local\\Programs\\Python\\Python39\\lib\\site-packages\\pytubefix\\__main__.py\u001b[0m in \u001b[0;36mtitle\u001b[1;34m(self)\u001b[0m\n\u001b[0;32m    792\u001b[0m             \u001b[1;31m# Check_availability will raise the correct exception in most cases\u001b[0m\u001b[1;33m\u001b[0m\u001b[1;33m\u001b[0m\u001b[1;33m\u001b[0m\u001b[0m\n\u001b[0;32m    793\u001b[0m             \u001b[1;31m#  if it doesn't, ask for a report.\u001b[0m\u001b[1;33m\u001b[0m\u001b[1;33m\u001b[0m\u001b[1;33m\u001b[0m\u001b[0m\n\u001b[1;32m--> 794\u001b[1;33m             \u001b[0mself\u001b[0m\u001b[1;33m.\u001b[0m\u001b[0mcheck_availability\u001b[0m\u001b[1;33m(\u001b[0m\u001b[1;33m)\u001b[0m\u001b[1;33m\u001b[0m\u001b[1;33m\u001b[0m\u001b[0m\n\u001b[0m\u001b[0;32m    795\u001b[0m             raise exceptions.PytubeFixError(\n\u001b[0;32m    796\u001b[0m                 (\n",
      "\u001b[1;32m~\\AppData\\Local\\Programs\\Python\\Python39\\lib\\site-packages\\pytubefix\\__main__.py\u001b[0m in \u001b[0;36mcheck_availability\u001b[1;34m(self)\u001b[0m\n\u001b[0;32m    394\u001b[0m                         \u001b[1;34m'Sign in to confirm you’re not a bot'\u001b[0m\u001b[1;33m\u001b[0m\u001b[1;33m\u001b[0m\u001b[0m\n\u001b[0;32m    395\u001b[0m                 ):\n\u001b[1;32m--> 396\u001b[1;33m                     \u001b[1;32mraise\u001b[0m \u001b[0mexceptions\u001b[0m\u001b[1;33m.\u001b[0m\u001b[0mBotDetection\u001b[0m\u001b[1;33m(\u001b[0m\u001b[0mvideo_id\u001b[0m\u001b[1;33m=\u001b[0m\u001b[0mself\u001b[0m\u001b[1;33m.\u001b[0m\u001b[0mvideo_id\u001b[0m\u001b[1;33m)\u001b[0m\u001b[1;33m\u001b[0m\u001b[1;33m\u001b[0m\u001b[0m\n\u001b[0m\u001b[0;32m    397\u001b[0m                 \u001b[1;32melse\u001b[0m\u001b[1;33m:\u001b[0m\u001b[1;33m\u001b[0m\u001b[1;33m\u001b[0m\u001b[0m\n\u001b[0;32m    398\u001b[0m                     \u001b[1;32mraise\u001b[0m \u001b[0mexceptions\u001b[0m\u001b[1;33m.\u001b[0m\u001b[0mLoginRequired\u001b[0m\u001b[1;33m(\u001b[0m\u001b[0mvideo_id\u001b[0m\u001b[1;33m=\u001b[0m\u001b[0mself\u001b[0m\u001b[1;33m.\u001b[0m\u001b[0mvideo_id\u001b[0m\u001b[1;33m,\u001b[0m \u001b[0mreason\u001b[0m\u001b[1;33m=\u001b[0m\u001b[0mreason\u001b[0m\u001b[1;33m)\u001b[0m\u001b[1;33m\u001b[0m\u001b[1;33m\u001b[0m\u001b[0m\n",
      "\u001b[1;31mBotDetection\u001b[0m: VgxnyKnB3qc This request was detected as a bot. Use `use_po_token=True` or switch to WEB client to view. See more details at https://github.com/JuanBindez/pytubefix/pull/209"
     ]
    }
   ],
   "source": [
    "yt_url = \"https://youtu.be/VgxnyKnB3qc?si=-xczL4PRJ_4VBJNh\"\n",
    "\n",
    "yt = YouTube(yt_url, on_progress_callback=on_progress)#, use_po_token=True)\n",
    "\n",
    "print(yt.title)"
   ]
  },
  {
   "cell_type": "code",
   "execution_count": 32,
   "id": "fa7279f3",
   "metadata": {
    "ExecuteTime": {
     "end_time": "2025-01-17T22:00:28.161758Z",
     "start_time": "2025-01-17T22:00:28.151763Z"
    }
   },
   "outputs": [],
   "source": [
    "yt_video = yt.streams.get_audio_only()\n"
   ]
  },
  {
   "cell_type": "code",
   "execution_count": 23,
   "id": "f62092bc",
   "metadata": {
    "ExecuteTime": {
     "end_time": "2025-01-17T21:32:33.197110Z",
     "start_time": "2025-01-17T21:32:29.876229Z"
    }
   },
   "outputs": [
    {
     "name": "stdout",
     "output_type": "stream",
     "text": [
      " ↳ |████████████████████████████████████████████████████████████████| 100.0%\r"
     ]
    },
    {
     "data": {
      "text/plain": [
       "'C:\\\\Users\\\\HP 15\\\\Desktop\\\\Ahmad\\\\App\\\\Video_Downloader_App\\\\🚀 How to Download YouTube Videos Using Python   Beginner-Friendly Guide 📥.m4a'"
      ]
     },
     "execution_count": 23,
     "metadata": {},
     "output_type": "execute_result"
    }
   ],
   "source": [
    "yt_video.download()"
   ]
  },
  {
   "cell_type": "code",
   "execution_count": 28,
   "id": "6b010848",
   "metadata": {
    "ExecuteTime": {
     "end_time": "2025-01-17T21:48:22.567893Z",
     "start_time": "2025-01-17T21:48:22.550906Z"
    }
   },
   "outputs": [
    {
     "data": {
      "text/plain": [
       "float"
      ]
     },
     "execution_count": 28,
     "metadata": {},
     "output_type": "execute_result"
    }
   ],
   "source": [
    "yt_video.filesize_mb"
   ]
  },
  {
   "cell_type": "code",
   "execution_count": 30,
   "id": "daffba8e",
   "metadata": {
    "ExecuteTime": {
     "end_time": "2025-01-17T21:52:03.991112Z",
     "start_time": "2025-01-17T21:52:03.971126Z"
    }
   },
   "outputs": [
    {
     "name": "stdout",
     "output_type": "stream",
     "text": [
      "1\n",
      "1\n"
     ]
    }
   ],
   "source": [
    "print('1\\n1')"
   ]
  },
  {
   "cell_type": "code",
   "execution_count": 18,
   "id": "3cb94fba",
   "metadata": {
    "ExecuteTime": {
     "end_time": "2025-01-17T21:29:50.968536Z",
     "start_time": "2025-01-17T21:29:50.926529Z"
    }
   },
   "outputs": [
    {
     "name": "stdout",
     "output_type": "stream",
     "text": [
      "Help on StreamQuery in module pytubefix.query object:\n",
      "\n",
      "class StreamQuery(collections.abc.Sequence)\n",
      " |  StreamQuery(fmt_streams)\n",
      " |  \n",
      " |  Interface for querying the available media streams.\n",
      " |  \n",
      " |  Method resolution order:\n",
      " |      StreamQuery\n",
      " |      collections.abc.Sequence\n",
      " |      collections.abc.Reversible\n",
      " |      collections.abc.Collection\n",
      " |      collections.abc.Sized\n",
      " |      collections.abc.Iterable\n",
      " |      collections.abc.Container\n",
      " |      builtins.object\n",
      " |  \n",
      " |  Methods defined here:\n",
      " |  \n",
      " |  __getitem__(self, i: Union[slice, int])\n",
      " |  \n",
      " |  __init__(self, fmt_streams)\n",
      " |      Construct a :class:`StreamQuery <StreamQuery>`.\n",
      " |      \n",
      " |      param list fmt_streams:\n",
      " |          list of :class:`Stream <Stream>` instances.\n",
      " |  \n",
      " |  __len__(self) -> int\n",
      " |  \n",
      " |  __repr__(self) -> str\n",
      " |      Return repr(self).\n",
      " |  \n",
      " |  all(self) -> List[pytubefix.streams.Stream]\n",
      " |      Get all the results represented by this query as a list.\n",
      " |      \n",
      " |      :rtype: list\n",
      " |  \n",
      " |  asc(self) -> 'StreamQuery'\n",
      " |      Sort streams in ascending order.\n",
      " |      \n",
      " |      :rtype: :class:`StreamQuery <StreamQuery>`\n",
      " |  \n",
      " |  count(self, value: Optional[str] = None) -> int\n",
      " |      Get the count of items in the list.\n",
      " |      \n",
      " |      :rtype: int\n",
      " |  \n",
      " |  desc(self) -> 'StreamQuery'\n",
      " |      Sort streams in descending order.\n",
      " |      \n",
      " |      :rtype: :class:`StreamQuery <StreamQuery>`\n",
      " |  \n",
      " |  filter(self, fps=None, res=None, resolution=None, mime_type=None, type=None, subtype=None, file_extension=None, abr=None, bitrate=None, video_codec=None, audio_codec=None, only_audio=None, only_video=None, progressive=None, adaptive=None, is_dash=None, audio_track_name=None, custom_filter_functions=None)\n",
      " |      Apply the given filtering criterion.\n",
      " |      \n",
      " |      :param fps:\n",
      " |          (optional) The frames per second.\n",
      " |      :type fps:\n",
      " |          int or None\n",
      " |      \n",
      " |      :param resolution:\n",
      " |          (optional) Alias to ``res``.\n",
      " |      :type res:\n",
      " |          str or None\n",
      " |      \n",
      " |      :param res:\n",
      " |          (optional) The video resolution.\n",
      " |      :type resolution:\n",
      " |          str or None\n",
      " |      \n",
      " |      :param mime_type:\n",
      " |          (optional) Two-part identifier for file formats and format contents\n",
      " |          composed of a \"type\", a \"subtype\".\n",
      " |      :type mime_type:\n",
      " |          str or None\n",
      " |      \n",
      " |      :param type:\n",
      " |          (optional) Type part of the ``mime_type`` (e.g.: audio, video).\n",
      " |      :type type:\n",
      " |          str or None\n",
      " |      \n",
      " |      :param subtype:\n",
      " |          (optional) Sub-type part of the ``mime_type`` (e.g.: mp4, mov).\n",
      " |      :type subtype:\n",
      " |          str or None\n",
      " |      \n",
      " |      :param file_extension:\n",
      " |          (optional) Alias to ``sub_type``.\n",
      " |      :type file_extension:\n",
      " |          str or None\n",
      " |      \n",
      " |      :param abr:\n",
      " |          (optional) Average bitrate (ABR) refers to the average amount of\n",
      " |          data transferred per unit of time (e.g.: 64kbps, 192kbps).\n",
      " |      :type abr:\n",
      " |          str or None\n",
      " |      \n",
      " |      :param bitrate:\n",
      " |          (optional) Alias to ``abr``.\n",
      " |      :type bitrate:\n",
      " |          str or None\n",
      " |      \n",
      " |      :param video_codec:\n",
      " |          (optional) Video compression format.\n",
      " |      :type video_codec:\n",
      " |          str or None\n",
      " |      \n",
      " |      :param audio_codec:\n",
      " |          (optional) Audio compression format.\n",
      " |      :type audio_codec:\n",
      " |          str or None\n",
      " |      \n",
      " |      :param bool progressive:\n",
      " |          Excludes adaptive streams (one file contains both audio and video\n",
      " |          tracks).\n",
      " |      \n",
      " |      :param bool adaptive:\n",
      " |          Excludes progressive streams (audio and video are on separate\n",
      " |          tracks).\n",
      " |      \n",
      " |      :param bool is_dash:\n",
      " |          Include/exclude dash streams.\n",
      " |      \n",
      " |      :param bool only_audio:\n",
      " |          Excludes streams with video tracks.\n",
      " |      \n",
      " |      :param bool only_video:\n",
      " |          Excludes streams with audio tracks.\n",
      " |      \n",
      " |      :param audio_track_name:\n",
      " |          Name of the dubbed audio track\n",
      " |      :type type:\n",
      " |          str or None\n",
      " |      \n",
      " |      :param custom_filter_functions:\n",
      " |          (optional) Interface for defining complex filters without\n",
      " |          subclassing.\n",
      " |      :type custom_filter_functions:\n",
      " |          list or None\n",
      " |  \n",
      " |  first(self) -> Optional[pytubefix.streams.Stream]\n",
      " |      Get the first :class:`Stream <Stream>` in the results.\n",
      " |      \n",
      " |      :rtype: :class:`Stream <Stream>` or None\n",
      " |      :returns:\n",
      " |          the first result of this query or None if the result doesn't\n",
      " |          contain any streams.\n",
      " |  \n",
      " |  get_audio_only(self, subtype: str = 'mp4') -> Optional[pytubefix.streams.Stream]\n",
      " |      Get highest bitrate audio stream for given codec (defaults to mp4)\n",
      " |      \n",
      " |      :param str subtype:\n",
      " |          Audio subtype, defaults to mp4\n",
      " |      :rtype: :class:`Stream <Stream>` or None\n",
      " |      :returns:\n",
      " |          The :class:`Stream <Stream>` matching the given itag or None if\n",
      " |          not found.\n",
      " |  \n",
      " |  get_by_itag(self, itag: Union[int, str]) -> Optional[pytubefix.streams.Stream]\n",
      " |      Get the corresponding :class:`Stream <Stream>` for a given itag.\n",
      " |      \n",
      " |      :param int itag:\n",
      " |          YouTube format identifier code.\n",
      " |      :rtype: :class:`Stream <Stream>` or None\n",
      " |      :returns:\n",
      " |          The :class:`Stream <Stream>` matching the given itag or None if\n",
      " |          not found.\n",
      " |  \n",
      " |  get_by_resolution(self, resolution: str) -> Optional[pytubefix.streams.Stream]\n",
      " |      Get the corresponding :class:`Stream <Stream>` for a given resolution.\n",
      " |      \n",
      " |      Stream must be a progressive mp4.\n",
      " |      \n",
      " |      :param str resolution:\n",
      " |          Video resolution i.e. \"720p\", \"480p\", \"360p\", \"240p\", \"144p\"\n",
      " |      :rtype: :class:`Stream <Stream>` or None\n",
      " |      :returns:\n",
      " |          The :class:`Stream <Stream>` matching the given itag or None if\n",
      " |          not found.\n",
      " |  \n",
      " |  get_default_audio_track(self) -> 'StreamQuery'\n",
      " |      Takes the standard audio tracks, will return all audio tracks if there is no dubbing.\n",
      " |      \n",
      " |      :rtype: :class:`StreamQuery <StreamQuery>`\n",
      " |      :returns: A StreamQuery object with filtered default dubbing streams.\n",
      " |  \n",
      " |  get_extra_audio_track(self) -> Optional[ForwardRef('StreamQuery')]\n",
      " |      Get only dubbed audio tracks.\n",
      " |      \n",
      " |      :rtype: :class:`StreamQuery <StreamQuery>` or None\n",
      " |      :returns: A StreamQuery object with filtering only the dubbing streams.\n",
      " |  \n",
      " |  get_extra_audio_track_by_name(self, name) -> Optional[ForwardRef('StreamQuery')]\n",
      " |      Filter dubbed audio streams by name\n",
      " |      \n",
      " |      :rtype: :class:`StreamQuery <StreamQuery>` or None\n",
      " |      :returns: A StreamQuery object filtering dubbed audio streams by name.\n",
      " |  \n",
      " |  get_highest_resolution(self, progressive=True, mime_type=None) -> Optional[pytubefix.streams.Stream]\n",
      " |      Get highest resolution stream that is a progressive video.\n",
      " |      \n",
      " |      :param bool progressive:\n",
      " |          Filter only progressive streams (video and audio in the same file), default is True.\n",
      " |          Set False to get the adaptive stream (separate video and audio) at the highest resolution\n",
      " |      :param str mime_type:\n",
      " |          Filter by mime_type. Leave as None to accept any mime_type.\n",
      " |      :rtype: :class:`Stream <Stream>` or None\n",
      " |      :returns:\n",
      " |          The :class:`Stream <Stream>` matching the given itag or None if\n",
      " |          not found.\n",
      " |  \n",
      " |  get_lowest_resolution(self, progressive=True) -> Optional[pytubefix.streams.Stream]\n",
      " |      Get lowest resolution stream that is a progressive mp4.\n",
      " |      \n",
      " |      :param bool progressive:\n",
      " |          Filter only progressive streams (video and audio in the same file), default is True.\n",
      " |          Set False to get the adaptive stream (separate video and audio) at the lowest resolution\n",
      " |      :rtype: :class:`Stream <Stream>` or None\n",
      " |      :returns:\n",
      " |          The :class:`Stream <Stream>` matching the given itag or None if\n",
      " |          not found.\n",
      " |  \n",
      " |  last(self)\n",
      " |      Get the last :class:`Stream <Stream>` in the results.\n",
      " |      \n",
      " |      :rtype: :class:`Stream <Stream>` or None\n",
      " |      :returns:\n",
      " |          Return the last result of this query or None if the result\n",
      " |          doesn't contain any streams.\n",
      " |  \n",
      " |  order_by(self, attribute_name: str) -> 'StreamQuery'\n",
      " |      Apply a sort order. Filters out stream the do not have the attribute.\n",
      " |      \n",
      " |      :param str attribute_name:\n",
      " |          The name of the attribute to sort by.\n",
      " |  \n",
      " |  otf(self, is_otf: bool = False) -> 'StreamQuery'\n",
      " |      Filter stream by OTF, useful if some streams have 404 URLs\n",
      " |      \n",
      " |      :param bool is_otf: Set to False to retrieve only non-OTF streams\n",
      " |      :rtype: :class:`StreamQuery <StreamQuery>`\n",
      " |      :returns: A StreamQuery object with otf filtered streams\n",
      " |  \n",
      " |  ----------------------------------------------------------------------\n",
      " |  Data descriptors defined here:\n",
      " |  \n",
      " |  __dict__\n",
      " |      dictionary for instance variables (if defined)\n",
      " |  \n",
      " |  __weakref__\n",
      " |      list of weak references to the object (if defined)\n",
      " |  \n",
      " |  ----------------------------------------------------------------------\n",
      " |  Data and other attributes defined here:\n",
      " |  \n",
      " |  __abstractmethods__ = frozenset()\n",
      " |  \n",
      " |  ----------------------------------------------------------------------\n",
      " |  Methods inherited from collections.abc.Sequence:\n",
      " |  \n",
      " |  __contains__(self, value)\n",
      " |  \n",
      " |  __iter__(self)\n",
      " |  \n",
      " |  __reversed__(self)\n",
      " |  \n",
      " |  index(self, value, start=0, stop=None)\n",
      " |      S.index(value, [start, [stop]]) -> integer -- return first index of value.\n",
      " |      Raises ValueError if the value is not present.\n",
      " |      \n",
      " |      Supporting start and stop arguments is optional, but\n",
      " |      recommended.\n",
      " |  \n",
      " |  ----------------------------------------------------------------------\n",
      " |  Class methods inherited from collections.abc.Reversible:\n",
      " |  \n",
      " |  __subclasshook__(C) from abc.ABCMeta\n",
      " |      Abstract classes can override this to customize issubclass().\n",
      " |      \n",
      " |      This is invoked early on by abc.ABCMeta.__subclasscheck__().\n",
      " |      It should return True, False or NotImplemented.  If it returns\n",
      " |      NotImplemented, the normal algorithm is used.  Otherwise, it\n",
      " |      overrides the normal algorithm (and the outcome is cached).\n",
      " |  \n",
      " |  ----------------------------------------------------------------------\n",
      " |  Class methods inherited from collections.abc.Iterable:\n",
      " |  \n",
      " |  __class_getitem__ = GenericAlias(...) from abc.ABCMeta\n",
      " |      Represent a PEP 585 generic type\n",
      " |      \n",
      " |      E.g. for t = list[int], t.__origin__ is list and t.__args__ is (int,).\n",
      "\n"
     ]
    }
   ],
   "source": [
    "help(yt_video)"
   ]
  },
  {
   "cell_type": "code",
   "execution_count": 25,
   "id": "fd0d4a7c",
   "metadata": {
    "ExecuteTime": {
     "end_time": "2025-01-17T21:44:33.727132Z",
     "start_time": "2025-01-17T21:44:33.712137Z"
    }
   },
   "outputs": [
    {
     "name": "stdout",
     "output_type": "stream",
     "text": [
      "1\n"
     ]
    }
   ],
   "source": [
    "if not None:\n",
    "    print(1)"
   ]
  },
  {
   "cell_type": "code",
   "execution_count": null,
   "id": "ab266989",
   "metadata": {},
   "outputs": [],
   "source": []
  }
 ],
 "metadata": {
  "kernelspec": {
   "display_name": "Python 3 (ipykernel)",
   "language": "python",
   "name": "python3"
  },
  "language_info": {
   "codemirror_mode": {
    "name": "ipython",
    "version": 3
   },
   "file_extension": ".py",
   "mimetype": "text/x-python",
   "name": "python",
   "nbconvert_exporter": "python",
   "pygments_lexer": "ipython3",
   "version": "3.9.6"
  }
 },
 "nbformat": 4,
 "nbformat_minor": 5
}
